{
 "cells": [
  {
   "cell_type": "code",
   "execution_count": 2,
   "id": "323ea661",
   "metadata": {},
   "outputs": [
    {
     "name": "stdout",
     "output_type": "stream",
     "text": [
      "              日期     开盘     收盘     最高     最低      成交量           成交额    振幅  \\\n",
      "0     2015-01-05  15.99  16.02  16.28  15.60  2860436  4.565388e+09  4.29   \n",
      "1     2015-01-06  15.85  15.78  16.39  15.55  2166421  3.453446e+09  5.24   \n",
      "2     2015-01-07  15.56  15.48  15.83  15.30  1700121  2.634796e+09  3.36   \n",
      "3     2015-01-08  15.50  14.96  15.57  14.90  1407714  2.128003e+09  4.33   \n",
      "4     2015-01-09  14.90  15.08  15.87  14.71  2508500  3.835378e+09  7.75   \n",
      "...          ...    ...    ...    ...    ...      ...           ...   ...   \n",
      "1700  2021-12-27  17.33  17.22  17.35  17.16   731119  1.260455e+09  1.10   \n",
      "1701  2021-12-28  17.22  17.17  17.33  17.09  1126639  1.934461e+09  1.39   \n",
      "1702  2021-12-29  17.16  16.75  17.16  16.70  1469374  2.480535e+09  2.68   \n",
      "1703  2021-12-30  16.76  16.82  16.95  16.72   796664  1.342374e+09  1.37   \n",
      "1704  2021-12-31  16.86  16.48  16.90  16.40  1750761  2.899617e+09  2.97   \n",
      "\n",
      "       涨跌幅   涨跌额   换手率  \n",
      "0     1.14  0.18  2.91  \n",
      "1    -1.50 -0.24  2.20  \n",
      "2    -1.90 -0.30  1.73  \n",
      "3    -3.36 -0.52  1.43  \n",
      "4     0.80  0.12  2.55  \n",
      "...    ...   ...   ...  \n",
      "1700 -0.52 -0.09  0.38  \n",
      "1701 -0.29 -0.05  0.58  \n",
      "1702 -2.45 -0.42  0.76  \n",
      "1703  0.42  0.07  0.41  \n",
      "1704 -2.02 -0.34  0.90  \n",
      "\n",
      "[1705 rows x 11 columns]\n"
     ]
    }
   ],
   "source": [
    "import pandas as pd\n",
    "import numpy as np\n",
    "from scipy.optimize import minimize\n",
    "from tqdm import tqdm\n",
    "import sqlite3\n",
    "import pickle\n",
    "import matplotlib.pyplot as plt\n",
    "import akshare as ak\n",
    "\n",
    "data = ak.stock_zh_a_hist(period=\"daily\", start_date=\"20150101\", end_date='20211231', adjust=\"\")\n",
    "print(data)"
   ]
  },
  {
   "cell_type": "code",
   "execution_count": null,
   "id": "bb4a4201",
   "metadata": {},
   "outputs": [],
   "source": []
  },
  {
   "cell_type": "code",
   "execution_count": null,
   "id": "97062c52",
   "metadata": {},
   "outputs": [],
   "source": []
  }
 ],
 "metadata": {
  "kernelspec": {
   "display_name": "Python 3 (ipykernel)",
   "language": "python",
   "name": "python3"
  },
  "language_info": {
   "codemirror_mode": {
    "name": "ipython",
    "version": 3
   },
   "file_extension": ".py",
   "mimetype": "text/x-python",
   "name": "python",
   "nbconvert_exporter": "python",
   "pygments_lexer": "ipython3",
   "version": "3.10.7"
  }
 },
 "nbformat": 4,
 "nbformat_minor": 5
}
